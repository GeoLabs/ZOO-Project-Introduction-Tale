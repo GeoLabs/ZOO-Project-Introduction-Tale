{
 "cells": [
  {
   "cell_type": "markdown",
   "metadata": {},
   "source": [
    "# MapServer version\n",
    "\n",
    "In this section you simply print the MapServer version available from the ZOO-Project Tale."
   ]
  },
  {
   "cell_type": "code",
   "execution_count": 1,
   "metadata": {},
   "outputs": [
    {
     "name": "stdout",
     "output_type": "stream",
     "text": [
      "MapServer version 7.7-dev OUTPUT=PNG OUTPUT=JPEG OUTPUT=KML SUPPORTS=PROJ SUPPORTS=AGG SUPPORTS=FREETYPE SUPPORTS=CAIRO SUPPORTS=ICONV SUPPORTS=FRIBIDI SUPPORTS=WMS_SERVER SUPPORTS=WMS_CLIENT SUPPORTS=WFS_SERVER SUPPORTS=WFS_CLIENT SUPPORTS=WCS_SERVER SUPPORTS=OGCAPI_SERVER SUPPORTS=FASTCGI SUPPORTS=GEOS SUPPORTS=PBF INPUT=JPEG INPUT=POSTGIS INPUT=OGR INPUT=GDAL INPUT=SHAPEFILE\n"
     ]
    }
   ],
   "source": [
    "!mapserv -v"
   ]
  },
  {
   "cell_type": "markdown",
   "metadata": {},
   "source": [
    "Now try to invoke mapserv with no arguments but, the MAPSERVER_CONFIG_FILE environment variable defined"
   ]
  },
  {
   "cell_type": "code",
   "execution_count": 2,
   "metadata": {},
   "outputs": [
    {
     "name": "stdout",
     "output_type": "stream",
     "text": [
      "This script can only be used to decode form results and \n",
      "should be initiated as a CGI process via a httpd server.\n",
      "For other options please try using the --help switch.\n"
     ]
    }
   ],
   "source": [
    "!MAPSERVER_CONFIG_FILE=~/.local/etc/mapserver-sample.conf mapserv"
   ]
  },
  {
   "cell_type": "markdown",
   "metadata": {},
   "source": [
    "With no environment variable"
   ]
  },
  {
   "cell_type": "code",
   "execution_count": 3,
   "metadata": {},
   "outputs": [
    {
     "name": "stdout",
     "output_type": "stream",
     "text": [
      "Content-Type: text/html\n",
      "\n",
      "<HTML>\n",
      "<HEAD><TITLE>MapServer Message</TITLE></HEAD>\n",
      "<!-- MapServer version 7.7-dev OUTPUT=PNG OUTPUT=JPEG OUTPUT=KML SUPPORTS=PROJ SUPPORTS=AGG SUPPORTS=FREETYPE SUPPORTS=CAIRO SUPPORTS=ICONV SUPPORTS=FRIBIDI SUPPORTS=WMS_SERVER SUPPORTS=WMS_CLIENT SUPPORTS=WFS_SERVER SUPPORTS=WFS_CLIENT SUPPORTS=WCS_SERVER SUPPORTS=OGCAPI_SERVER SUPPORTS=FASTCGI SUPPORTS=GEOS SUPPORTS=PBF INPUT=JPEG INPUT=POSTGIS INPUT=OGR INPUT=GDAL INPUT=SHAPEFILE -->\n",
      "<BODY BGCOLOR=\"#FFFFFF\">\n",
      "msLoadConfig(): Unable to access file. See mapserver.org/config_file.html for more information.\n",
      "</BODY></HTML>"
     ]
    }
   ],
   "source": [
    "!mapserv"
   ]
  },
  {
   "cell_type": "markdown",
   "metadata": {},
   "source": [
    "# ZOO-Kernel test request\n",
    "\n",
    "This is a very trivial way to invoke the ZOO-Kernel from the command line"
   ]
  },
  {
   "cell_type": "code",
   "execution_count": 4,
   "metadata": {
    "scrolled": true
   },
   "outputs": [
    {
     "name": "stdout",
     "output_type": "stream",
     "text": [
      "Content-Type: application/json;charset=UTF-8\n",
      "Status: 200 OK \n",
      "\n",
      "{\"title\":\"The ZOO-Project OGC WPS Developement Server\",\"description\":\"Developement version of ZOO-Project OGC WPS. See http:\\/\\/www.zoo-project.org\",\"links\":[{\"rel\":\"self\",\"type\":\"application\\/json\",\"title\":\"this document\",\"href\":\"http:\\/\\/localhost\\/ogc-api\\/\"},{\"rel\":\"alternate\",\"type\":\"text\\/html\",\"title\":\"this document\",\"href\":\"http:\\/\\/localhost\\/ogc-api\\/index.html\"},{\"rel\":\"service-desc\",\"type\":\"application\\/vnd.oai.openapi+json;version=3.0\",\"title\":\"the API definition\",\"href\":\"http:\\/\\/localhost\\/ogc-api\\/api\"},{\"rel\":\"service-doc\",\"type\":\"text\\/html\",\"title\":\"the API definition\",\"href\":\"http:\\/\\/localhost\\/ogc-api\\/api.html\"},{\"rel\":\"http:\\/\\/www.opengis.net\\/def\\/rel\\/ogc\\/1.0\\/conformance\",\"type\":\"application\\/json\",\"title\":\"OGC API - Processes conformance classes implemented by this server\",\"href\":\"http:\\/\\/localhost\\/ogc-api\\/conformance\"},{\"rel\":\"alternate\",\"type\":\"text\\/html\",\"title\":\"OGC API - Processes conformance classes implemented by this server\",\"href\":\"http:\\/\\/localhost\\/ogc-api\\/conformance.html\"},{\"rel\":\"http:\\/\\/www.opengis.net\\/def\\/rel\\/ogc\\/1.0\\/processes\",\"type\":\"application\\/json\",\"title\":\"The processes offered by this server\",\"href\":\"http:\\/\\/localhost\\/ogc-api\\/processes\"},{\"rel\":\"alternate\",\"type\":\"text\\/html\",\"title\":\"The processes offered by this server\",\"href\":\"http:\\/\\/localhost\\/ogc-api\\/processes.html\"},{\"rel\":\"http:\\/\\/www.opengis.net\\/def\\/rel\\/ogc\\/1.0\\/job-list\",\"type\":\"application\\/json\",\"title\":\"Job Management\",\"href\":\"http:\\/\\/localhost\\/ogc-api\\/jobs\"},{\"rel\":\"alternate\",\"type\":\"text\\/html\",\"title\":\"Job Management\",\"href\":\"http:\\/\\/localhost\\/ogc-api\\/jobs.html\"}]}\n"
     ]
    }
   ],
   "source": [
    "!zoo_loader.cgi /"
   ]
  },
  {
   "cell_type": "markdown",
   "metadata": {},
   "source": [
    "# Start a basic http server\n",
    "\n",
    "Please refer to this [notebook](./Introduction/Start.ipynb)"
   ]
  },
  {
   "cell_type": "markdown",
   "metadata": {},
   "source": [
    "# Run requests\n",
    "\n",
    "To run the request, please follow this [link](./Introduction/Sample_Requests.ipynb)\n",
    "\n",
    "Here we will run CGI scripts from within Jupyter Notebok"
   ]
  },
  {
   "cell_type": "markdown",
   "metadata": {},
   "source": [
    "# Stop the web server\n",
    "\n",
    "Here are the commands to follow to stop the http server"
   ]
  },
  {
   "cell_type": "code",
   "execution_count": null,
   "metadata": {},
   "outputs": [],
   "source": [
    "!kill -9 $(ps axvfwww | grep http | awk '{print $1}' | head -1) "
   ]
  }
 ],
 "metadata": {
  "kernelspec": {
   "display_name": "Python 3",
   "language": "python",
   "name": "python3"
  },
  "language_info": {
   "codemirror_mode": {
    "name": "ipython",
    "version": 3
   },
   "file_extension": ".py",
   "mimetype": "text/x-python",
   "name": "python",
   "nbconvert_exporter": "python",
   "pygments_lexer": "ipython3",
   "version": "3.7.8"
  }
 },
 "nbformat": 4,
 "nbformat_minor": 4
}
