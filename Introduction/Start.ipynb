{
 "cells": [
  {
   "cell_type": "markdown",
   "metadata": {},
   "source": [
    "# Start a basic http server\n",
    "\n",
    "Here you should start only once the following command"
   ]
  },
  {
   "cell_type": "code",
   "execution_count": null,
   "metadata": {},
   "outputs": [
    {
     "name": "stdout",
     "output_type": "stream",
     "text": [
      "Serving HTTP on 0.0.0.0 port 8000 (http://0.0.0.0:8000/) ...\n",
      "127.0.0.1 - - [06/Jun/2022 14:11:06] \"GET /cgi-bin/mapserv?map=/WholeTale/workspace/MapServer/ms-ogc-workshop/service/config.map&version=1.1.1&service=WMS&request=GetCapabilities& HTTP/1.1\" 200 -\n",
      "127.0.0.1 - - [06/Jun/2022 14:11:20] \"GET /cgi-bin/mapserv?map=/WholeTale/workspace/MapServer/ms-ogc-workshop/service/config.map&version=1.1.1&service=WMS&request=GetCapabilities& HTTP/1.1\" 200 -\n",
      "127.0.0.1 - - [06/Jun/2022 14:11:27] \"GET /cgi-bin/mapserv?map=/WholeTale/workspace/MapServer/ms-ogc-workshop/service/config.map&version=1.1.1&service=WMS&request=DescribeLayer&layers=rivers HTTP/1.1\" 200 -\n",
      "127.0.0.1 - - [06/Jun/2022 14:11:35] \"GET /cgi-bin/mapserv?map=/WholeTale/workspace/MapServer/ms-ogc-workshop/service/config.map&version=1.1.1&service=WMS&request=GetMap&srs=EPSG:4326&bbox=-180,-90,180,90&format=image/png&layers=land_shallow_topo_2048,rivers&transparent=true&width=1000&height=600&styles= HTTP/1.1\" 200 -\n",
      "127.0.0.1 - - [06/Jun/2022 14:11:39] \"GET /cgi-bin/mapserv?map=/WholeTale/workspace/MapServer/ms-ogc-workshop/service/config.map&version=1.0.0&service=WFS&request=GetCapabilities HTTP/1.1\" 200 -\n",
      "127.0.0.1 - - [06/Jun/2022 14:11:43] \"GET /cgi-bin/mapserv?map=/WholeTale/workspace/MapServer/ms-ogc-workshop/service/config.map&version=1.0.0&service=WFS&request=DescribeFeatureType&typename=rivers HTTP/1.1\" 200 -\n",
      "127.0.0.1 - - [06/Jun/2022 14:11:47] \"GET /cgi-bin/mapserv?map=/WholeTale/workspace/MapServer/ms-ogc-workshop/service/config.map&version=1.0.0&service=WFS&request=GetFeature&typename=rivers&maxfeatures=1 HTTP/1.1\" 200 -\n",
      "127.0.0.1 - - [06/Jun/2022 14:11:50] \"GET /cgi-bin/mapserv?map=/WholeTale/workspace/MapServer/ms-ogc-workshop/service/config.map&version=1.0.0&service=WCS&request=GetCapabilities HTTP/1.1\" 200 -\n",
      "127.0.0.1 - - [06/Jun/2022 14:11:57] \"GET /cgi-bin/mapserv?map=/WholeTale/workspace/MapServer/ms-ogc-workshop/service/config.map&version=1.0.0&service=WCS&request=DescribeCoverage&coverage=toronto HTTP/1.1\" 200 -\n",
      "127.0.0.1 - - [06/Jun/2022 14:13:44] \"GET /cgi-bin/mapserv?map=/WholeTale/workspace/MapServer/ms-ogc-workshop/service/config.map&version=1.0.0&service=WCS&request=GetCoverage&coverage=toronto&crs=EPSG:26917&resx=500&resy=500&format=GEOTIFF_RGB&BBOX=456850,4732100,706850,4957100 HTTP/1.1\" 200 -\n",
      "127.0.0.1 - - [06/Jun/2022 14:13:50] \"GET /cgi-bin/mapserv?map=/WholeTale/workspace/MapServer/ms-ogc-workshop/service/config.map&version=1.0.0&service=WCS&request=GetCoverage&coverage=toronto&crs=EPSG:26917&resx=500&resy=500&format=GEOTIFF_RGB&BBOX=456850,4732100,706850,4957100 HTTP/1.1\" 200 -\n"
     ]
    }
   ],
   "source": [
    "!cd ~/.local/ ; MAPSERVER_CONFIG_FILE=/home/jovyan/.local/etc/mapserver-sample.conf python -m http.server 8000 --cgi "
   ]
  },
  {
   "cell_type": "markdown",
   "metadata": {},
   "source": [
    "Once the command is started, you can go directly to the [next step](Sample_Requests.ipynb)."
   ]
  }
 ],
 "metadata": {
  "kernelspec": {
   "display_name": "Python 3",
   "language": "python",
   "name": "python3"
  },
  "language_info": {
   "codemirror_mode": {
    "name": "ipython",
    "version": 3
   },
   "file_extension": ".py",
   "mimetype": "text/x-python",
   "name": "python",
   "nbconvert_exporter": "python",
   "pygments_lexer": "ipython3",
   "version": "3.7.8"
  }
 },
 "nbformat": 4,
 "nbformat_minor": 4
}
