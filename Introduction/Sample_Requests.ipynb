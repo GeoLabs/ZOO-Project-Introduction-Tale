{
 "cells": [
  {
   "cell_type": "markdown",
   "metadata": {},
   "source": [
    "# Run requests\n",
    "\n",
    "## ZOO-Project\n",
    "\n",
    "Here we will run CGI scripts from within Jupyter Notebok.\n",
    "\n",
    "### Root"
   ]
  },
  {
   "cell_type": "code",
   "execution_count": null,
   "metadata": {},
   "outputs": [],
   "source": [
    "from IPython.core.display import HTML, GeoJSON\n",
    "import requests\n",
    "\n",
    "oapip_endpoint = 'http://localhost:8000/cgi-bin/zoo_loader.cgi?'\n",
    "\n",
    "headers= {\"accept\": \"application/json\"}\n",
    "\n",
    "query = '{}/'.format(oapip_endpoint)\n",
    "\n",
    "r = requests.get(query, headers=headers)\n",
    "\n",
    "JSON(r.json())"
   ]
  },
  {
   "cell_type": "markdown",
   "metadata": {},
   "source": [
    "\n",
    "### Processes\n"
   ]
  },
  {
   "cell_type": "code",
   "execution_count": null,
   "metadata": {},
   "outputs": [],
   "source": [
    "from IPython.core.display import HTML, GeoJSON\n",
    "import requests\n",
    "\n",
    "oapip_endpoint = 'http://localhost:8000/cgi-bin/zoo_loader.cgi?'\n",
    "\n",
    "headers= {\"accept\": \"application/json\"}\n",
    "\n",
    "query = '{}/processes'.format(oapip_endpoint)\n",
    "\n",
    "r = requests.get(query, headers=headers)\n",
    "\n",
    "JSON(r.json())"
   ]
  },
  {
   "cell_type": "markdown",
   "metadata": {},
   "source": [
    "\n",
    "### TrainImagesClassifier\n",
    "\n",
    "Using `/processes/{processId}` path, you can fecth the detailled description of a service"
   ]
  },
  {
   "cell_type": "code",
   "execution_count": null,
   "metadata": {},
   "outputs": [],
   "source": [
    "# Import required modules\n",
    "from IPython.core.display import HTML, JSON\n",
    "import requests\n",
    "# Define Endpoint\n",
    "oapip_endpoint = 'http://localhost:8000/cgi-bin/zoo_loader.cgi?'\n",
    "# Define headers to use\n",
    "headers= {\"accept\": \"application/json\"}\n",
    "# Define the query path\n",
    "query = '{}/processes/OTB.TrainImagesClassifier'.format(oapip_endpoint)\n",
    "# Run the query\n",
    "r = requests.get(query, headers=headers)\n",
    "# Output JSON\n",
    "JSON(r.json())"
   ]
  },
  {
   "cell_type": "markdown",
   "metadata": {},
   "source": [
    "# MapServer\n",
    "\n",
    "As before, we will run from the command line or using the Python snipest bellow."
   ]
  },
  {
   "cell_type": "code",
   "execution_count": null,
   "metadata": {},
   "outputs": [],
   "source": [
    "#!curl \"http://localhost:8000/cgi-bin/mapserv?\"\n",
    "\n",
    "from IPython.core.display import HTML, GeoJSON\n",
    "import requests\n",
    "\n",
    "ms_endpoint = 'http://localhost:8000/cgi-bin/mapserv?'\n",
    "\n",
    "query = '{}/'.format(ms_endpoint)\n",
    "\n",
    "r = requests.get(query)\n",
    "\n",
    "HTML(r.text)\n",
    "\n"
   ]
  },
  {
   "cell_type": "code",
   "execution_count": null,
   "metadata": {},
   "outputs": [],
   "source": [
    "!curl \"http://localhost:8000/cgi-bin/zoo_loader.cgi?service=WPS&version=1.0.0&request=Execute&Identifier=HelloPy&DataInputs=a=Martin%20et%20Jules\""
   ]
  },
  {
   "cell_type": "code",
   "execution_count": null,
   "metadata": {},
   "outputs": [],
   "source": [
    "!curl \"http://localhost:8000/cgi-bin/zoo_loader.cgi?service=WPS&version=1.0.0&request=Execute&Identifier=HelloPy&DataInputs=a=Martin%20et%20Jules&RawDataOutput=Result\""
   ]
  },
  {
   "cell_type": "code",
   "execution_count": null,
   "metadata": {},
   "outputs": [],
   "source": [
    "!curl \"http://localhost:8000/cgi-bin/zoo_loader.cgi?service=WPS&version=1.0.0&request=Execute&Identifier=hellor&DataInputs=S=Martin%20et%20Jules&RawDataOutput=Result\""
   ]
  },
  {
   "cell_type": "code",
   "execution_count": null,
   "metadata": {},
   "outputs": [],
   "source": [
    "!curl -v -d @/home/jovyan/work/workspace/test.txt -H \"Content-Type: application/json\" \"http://localhost:8000/cgi-bin/zoo_loader.cgi?/processes/HelloPy/execution\" | tee"
   ]
  },
  {
   "cell_type": "code",
   "execution_count": null,
   "metadata": {},
   "outputs": [],
   "source": [
    "!REQUEST_METHOD=POST CONTENT_TYPE=application/json zoo_loader.cgi /processes/HelloPy/execution < assets/requests/test.json"
   ]
  },
  {
   "cell_type": "markdown",
   "metadata": {},
   "source": [
    "# Stop the web server\n",
    "\n",
    "Here are the commands to follow to stop the http server"
   ]
  },
  {
   "cell_type": "code",
   "execution_count": null,
   "metadata": {},
   "outputs": [],
   "source": [
    "!kill -9 $(ps axvfwww | grep http | awk '{print $1}' | head -1) "
   ]
  }
 ],
 "metadata": {
  "kernelspec": {
   "display_name": "Python 3",
   "language": "python",
   "name": "python3"
  },
  "language_info": {
   "codemirror_mode": {
    "name": "ipython",
    "version": 3
   },
   "file_extension": ".py",
   "mimetype": "text/x-python",
   "name": "python",
   "nbconvert_exporter": "python",
   "pygments_lexer": "ipython3",
   "version": "3.8.5"
  }
 },
 "nbformat": 4,
 "nbformat_minor": 4
}
